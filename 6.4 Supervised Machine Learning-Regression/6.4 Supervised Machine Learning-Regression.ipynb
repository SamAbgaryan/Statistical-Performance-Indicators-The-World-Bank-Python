{
 "cells": [
  {
   "cell_type": "markdown",
   "id": "574f2009",
   "metadata": {},
   "source": [
    "# Importing Libs"
   ]
  },
  {
   "cell_type": "code",
   "execution_count": 1,
   "id": "41b01b1b",
   "metadata": {},
   "outputs": [],
   "source": [
    "#checking for sklearn installation\n",
    "import sklearn # istalled correctly"
   ]
  },
  {
   "cell_type": "code",
   "execution_count": 2,
   "id": "771c3ca7",
   "metadata": {},
   "outputs": [],
   "source": [
    "#importing all other libraries needed for analysis\n",
    "import pandas as pd\n",
    "import numpy as np\n",
    "import seaborn as sns\n",
    "import matplotlib\n",
    "import matplotlib.pyplot as plt\n",
    "import os\n",
    "from sklearn.model_selection import train_test_split \n",
    "from sklearn.linear_model import LinearRegression\n",
    "from sklearn.metrics import mean_squared_error, r2_score"
   ]
  },
  {
   "cell_type": "markdown",
   "id": "11970e03",
   "metadata": {},
   "source": [
    "# Importing Data"
   ]
  },
  {
   "cell_type": "code",
   "execution_count": 4,
   "id": "31c85df8",
   "metadata": {},
   "outputs": [],
   "source": [
    "# data with outliers\n",
    "path=r\"C:\\Users\\Sam\\Desktop\\CF\\Project 6 WORLD BANK\\datasets\\SPI Scores Clean and Formated 6.2.csv\"\n",
    "data=pd.read_csv(os.path.join(path))"
   ]
  },
  {
   "cell_type": "code",
   "execution_count": 7,
   "id": "04d2d581",
   "metadata": {},
   "outputs": [
    {
     "data": {
      "text/html": [
       "<div>\n",
       "<style scoped>\n",
       "    .dataframe tbody tr th:only-of-type {\n",
       "        vertical-align: middle;\n",
       "    }\n",
       "\n",
       "    .dataframe tbody tr th {\n",
       "        vertical-align: top;\n",
       "    }\n",
       "\n",
       "    .dataframe thead th {\n",
       "        text-align: right;\n",
       "    }\n",
       "</style>\n",
       "<table border=\"1\" class=\"dataframe\">\n",
       "  <thead>\n",
       "    <tr style=\"text-align: right;\">\n",
       "      <th></th>\n",
       "      <th>Unnamed: 0</th>\n",
       "      <th>Country</th>\n",
       "      <th>Date</th>\n",
       "      <th>Data Use</th>\n",
       "      <th>Data Services</th>\n",
       "      <th>Data Products</th>\n",
       "      <th>Data Sources</th>\n",
       "      <th>Data Infrastructure</th>\n",
       "      <th>SPI Score</th>\n",
       "      <th>Income</th>\n",
       "      <th>Region</th>\n",
       "      <th>Population</th>\n",
       "      <th>Score Category</th>\n",
       "    </tr>\n",
       "  </thead>\n",
       "  <tbody>\n",
       "    <tr>\n",
       "      <th>0</th>\n",
       "      <td>0</td>\n",
       "      <td>Finland</td>\n",
       "      <td>2022</td>\n",
       "      <td>100.0</td>\n",
       "      <td>96.433333</td>\n",
       "      <td>88.4875</td>\n",
       "      <td>83.258333</td>\n",
       "      <td>100.0</td>\n",
       "      <td>93.635833</td>\n",
       "      <td>High income</td>\n",
       "      <td>Europe &amp; Central Asia</td>\n",
       "      <td>5556106.0</td>\n",
       "      <td>High Score</td>\n",
       "    </tr>\n",
       "  </tbody>\n",
       "</table>\n",
       "</div>"
      ],
      "text/plain": [
       "   Unnamed: 0  Country  Date  Data Use  Data Services  Data Products  \\\n",
       "0           0  Finland  2022     100.0      96.433333        88.4875   \n",
       "\n",
       "   Data Sources  Data Infrastructure  SPI Score       Income  \\\n",
       "0     83.258333                100.0  93.635833  High income   \n",
       "\n",
       "                  Region  Population Score Category  \n",
       "0  Europe & Central Asia   5556106.0     High Score  "
      ]
     },
     "execution_count": 7,
     "metadata": {},
     "output_type": "execute_result"
    }
   ],
   "source": [
    "# checking for execution\n",
    "data.head(1)"
   ]
  },
  {
   "cell_type": "code",
   "execution_count": 8,
   "id": "ac85eadc",
   "metadata": {},
   "outputs": [
    {
     "data": {
      "text/plain": [
       "(1524, 13)"
      ]
     },
     "execution_count": 8,
     "metadata": {},
     "output_type": "execute_result"
    }
   ],
   "source": [
    "data.shape"
   ]
  },
  {
   "cell_type": "code",
   "execution_count": 9,
   "id": "97a79637",
   "metadata": {},
   "outputs": [],
   "source": [
    "# data without outliers\n",
    "path1=r\"C:\\Users\\Sam\\Desktop\\CF\\Project 6 WORLD BANK\\datasets\\SPI excluded outliers 6.3.csv\"\n",
    "data_no_outliers=pd.read_csv(os.path.join(path1))"
   ]
  },
  {
   "cell_type": "code",
   "execution_count": 10,
   "id": "d6e2571c",
   "metadata": {},
   "outputs": [
    {
     "data": {
      "text/html": [
       "<div>\n",
       "<style scoped>\n",
       "    .dataframe tbody tr th:only-of-type {\n",
       "        vertical-align: middle;\n",
       "    }\n",
       "\n",
       "    .dataframe tbody tr th {\n",
       "        vertical-align: top;\n",
       "    }\n",
       "\n",
       "    .dataframe thead th {\n",
       "        text-align: right;\n",
       "    }\n",
       "</style>\n",
       "<table border=\"1\" class=\"dataframe\">\n",
       "  <thead>\n",
       "    <tr style=\"text-align: right;\">\n",
       "      <th></th>\n",
       "      <th>Country</th>\n",
       "      <th>Date</th>\n",
       "      <th>Data Use</th>\n",
       "      <th>Data Services</th>\n",
       "      <th>Data Products</th>\n",
       "      <th>Data Sources</th>\n",
       "      <th>Data Infrastructure</th>\n",
       "      <th>SPI Score</th>\n",
       "      <th>Income</th>\n",
       "      <th>Region</th>\n",
       "      <th>Population</th>\n",
       "      <th>Score Category</th>\n",
       "    </tr>\n",
       "  </thead>\n",
       "  <tbody>\n",
       "    <tr>\n",
       "      <th>0</th>\n",
       "      <td>Finland</td>\n",
       "      <td>2022</td>\n",
       "      <td>100.0</td>\n",
       "      <td>96.433333</td>\n",
       "      <td>88.4875</td>\n",
       "      <td>83.258333</td>\n",
       "      <td>100.0</td>\n",
       "      <td>93.635833</td>\n",
       "      <td>High income</td>\n",
       "      <td>Europe &amp; Central Asia</td>\n",
       "      <td>5556106.0</td>\n",
       "      <td>High Score</td>\n",
       "    </tr>\n",
       "  </tbody>\n",
       "</table>\n",
       "</div>"
      ],
      "text/plain": [
       "   Country  Date  Data Use  Data Services  Data Products  Data Sources  \\\n",
       "0  Finland  2022     100.0      96.433333        88.4875     83.258333   \n",
       "\n",
       "   Data Infrastructure  SPI Score       Income                 Region  \\\n",
       "0                100.0  93.635833  High income  Europe & Central Asia   \n",
       "\n",
       "   Population Score Category  \n",
       "0   5556106.0     High Score  "
      ]
     },
     "execution_count": 10,
     "metadata": {},
     "output_type": "execute_result"
    }
   ],
   "source": [
    "# checking for execution\n",
    "data_no_outliers.head(1)"
   ]
  },
  {
   "cell_type": "code",
   "execution_count": 11,
   "id": "6f92cace",
   "metadata": {},
   "outputs": [
    {
     "data": {
      "text/plain": [
       "(1496, 12)"
      ]
     },
     "execution_count": 11,
     "metadata": {},
     "output_type": "execute_result"
    }
   ],
   "source": [
    "data_no_outliers.shape"
   ]
  },
  {
   "cell_type": "code",
   "execution_count": 12,
   "id": "c884504a",
   "metadata": {},
   "outputs": [],
   "source": [
    "# to show graphs in the notebook\n",
    "%matplotlib inline"
   ]
  },
  {
   "cell_type": "code",
   "execution_count": 13,
   "id": "d00be987",
   "metadata": {},
   "outputs": [
    {
     "data": {
      "text/plain": [
       "Unnamed: 0             0\n",
       "Country                0\n",
       "Date                   0\n",
       "Data Use               0\n",
       "Data Services          0\n",
       "Data Products          0\n",
       "Data Sources           0\n",
       "Data Infrastructure    0\n",
       "SPI Score              0\n",
       "Income                 0\n",
       "Region                 0\n",
       "Population             0\n",
       "Score Category         0\n",
       "dtype: int64"
      ]
     },
     "execution_count": 13,
     "metadata": {},
     "output_type": "execute_result"
    }
   ],
   "source": [
    "# missing values\n",
    "data.isnull().sum()"
   ]
  },
  {
   "cell_type": "code",
   "execution_count": 14,
   "id": "513c8dec",
   "metadata": {},
   "outputs": [
    {
     "data": {
      "text/plain": [
       "Country                0\n",
       "Date                   0\n",
       "Data Use               0\n",
       "Data Services          0\n",
       "Data Products          0\n",
       "Data Sources           0\n",
       "Data Infrastructure    0\n",
       "SPI Score              0\n",
       "Income                 0\n",
       "Region                 0\n",
       "Population             0\n",
       "Score Category         0\n",
       "dtype: int64"
      ]
     },
     "execution_count": 14,
     "metadata": {},
     "output_type": "execute_result"
    }
   ],
   "source": [
    "data_no_outliers.isnull().sum()"
   ]
  },
  {
   "cell_type": "code",
   "execution_count": 17,
   "id": "f9c807b0",
   "metadata": {},
   "outputs": [
    {
     "data": {
      "text/plain": [
       "(1524,)"
      ]
     },
     "execution_count": 17,
     "metadata": {},
     "output_type": "execute_result"
    }
   ],
   "source": [
    "# duplicates\n",
    "dup=data.duplicated()\n",
    "dup.shape"
   ]
  },
  {
   "cell_type": "code",
   "execution_count": 19,
   "id": "ea4e89c3",
   "metadata": {},
   "outputs": [
    {
     "data": {
      "text/plain": [
       "(1496,)"
      ]
     },
     "execution_count": 19,
     "metadata": {},
     "output_type": "execute_result"
    }
   ],
   "source": [
    "dups=data_no_outliers.duplicated()\n",
    "dups.shape"
   ]
  },
  {
   "cell_type": "markdown",
   "id": "b0b66b5c",
   "metadata": {},
   "source": [
    "### Preparing for regression analysis"
   ]
  },
  {
   "cell_type": "code",
   "execution_count": 25,
   "id": "26e97ba7",
   "metadata": {},
   "outputs": [
    {
     "data": {
      "text/plain": [
       "<Axes: xlabel='Income', ylabel='SPI Score'>"
      ]
     },
     "execution_count": 25,
     "metadata": {},
     "output_type": "execute_result"
    },
    {
     "data": {
      "image/png": "[encoded data removed]",
      "text/plain": [
       "<Figure size 640x480 with 1 Axes>"
      ]
     },
     "metadata": {},
     "output_type": "display_data"
    }
   ],
   "source": [
    "sns.boxplot(data=data_no_outliers, x=\"Income\", y=\"SPI Score\")"
   ]
  },
  {
   "cell_type": "code",
   "execution_count": 27,
   "id": "55e80374",
   "metadata": {},
   "outputs": [
    {
     "data": {
      "image/png": "[encoded data removed]",
      "text/plain": [
       "<Figure size 640x480 with 1 Axes>"
      ]
     },
     "metadata": {},
     "output_type": "display_data"
    }
   ],
   "source": [
    "# creating a scatterplot for SPI Score and Population(Population-independent,SPI-dependent)\n",
    "data_no_outliers.plot(x=\"Population\",y=\"SPI Score\",style=\"o\")\n",
    "plt.xlabel(\"Population\")  \n",
    "plt.ylabel(\"Spi Score\")  \n",
    "plt.show()"
   ]
  },
  {
   "cell_type": "code",
   "execution_count": 28,
   "id": "6398fbf4",
   "metadata": {},
   "outputs": [
    {
     "data": {
      "image/png": "[encoded data removed]",
      "text/plain": [
       "<Figure size 640x480 with 1 Axes>"
      ]
     },
     "metadata": {},
     "output_type": "display_data"
    }
   ],
   "source": [
    "#creating a scatterplot for data with same independent and dependent variables with outliers to see the difference\n",
    "data.plot(x=\"Population\",y=\"SPI Score\",style=\"o\")\n",
    "plt.xlabel(\"Population\")  \n",
    "plt.ylabel(\"Spi Score\")  \n",
    "plt.show()"
   ]
  },
  {
   "cell_type": "markdown",
   "id": "de2a59da",
   "metadata": {},
   "source": [
    "## Hypothesis to test: If population is high, then the SPI Score is high."
   ]
  },
  {
   "cell_type": "markdown",
   "id": "c10b2d5b",
   "metadata": {},
   "source": [
    "#### Clearly data without outliers should be used for analysis"
   ]
  },
  {
   "cell_type": "code",
   "execution_count": 29,
   "id": "318da410",
   "metadata": {},
   "outputs": [],
   "source": [
    "# Reshaping the variables into NumPy arrays and putting them into separate objects\n",
    "X = data_no_outliers[\"Population\"].values.reshape(-1,1)\n",
    "y = data_no_outliers[\"SPI Score\"].values.reshape(-1,1)"
   ]
  },
  {
   "cell_type": "code",
   "execution_count": 30,
   "id": "8d7fbbdb",
   "metadata": {},
   "outputs": [
    {
     "data": {
      "text/plain": [
       "array([[5.5561060e+06],\n",
       "       [5.4571270e+06],\n",
       "       [3.8929902e+07],\n",
       "       ...,\n",
       "       [1.1225000e+04],\n",
       "       [1.0751000e+05],\n",
       "       [4.3670880e+06]])"
      ]
     },
     "execution_count": 30,
     "metadata": {},
     "output_type": "execute_result"
    }
   ],
   "source": [
    "X"
   ]
  },
  {
   "cell_type": "code",
   "execution_count": 31,
   "id": "2335b1e0",
   "metadata": {},
   "outputs": [
    {
     "data": {
      "text/plain": [
       "array([[93.63583333],\n",
       "       [93.49583333],\n",
       "       [92.9225    ],\n",
       "       ...,\n",
       "       [64.07      ],\n",
       "       [64.07      ],\n",
       "       [64.07      ]])"
      ]
     },
     "execution_count": 31,
     "metadata": {},
     "output_type": "execute_result"
    }
   ],
   "source": [
    "y"
   ]
  },
  {
   "cell_type": "code",
   "execution_count": 32,
   "id": "85e959df",
   "metadata": {},
   "outputs": [],
   "source": [
    "# Splitting data into a training and test sets\n",
    "X_train, X_test, y_train, y_test = train_test_split(X, y, test_size=0.3, random_state=0)"
   ]
  },
  {
   "cell_type": "markdown",
   "id": "60058d3a",
   "metadata": {},
   "source": [
    "## Regresssion analysis"
   ]
  },
  {
   "cell_type": "code",
   "execution_count": 33,
   "id": "dc7e4b59",
   "metadata": {},
   "outputs": [],
   "source": [
    "# Creating a regression object\n",
    "regression = LinearRegression()"
   ]
  },
  {
   "cell_type": "code",
   "execution_count": 34,
   "id": "805157d0",
   "metadata": {},
   "outputs": [
    {
     "data": {
      "text/html": [
       "<style>#sk-container-id-1 {color: black;}#sk-container-id-1 pre{padding: 0;}#sk-container-id-1 div.sk-toggleable {background-color: white;}#sk-container-id-1 label.sk-toggleable__label {cursor: pointer;display: block;width: 100%;margin-bottom: 0;padding: 0.3em;box-sizing: border-box;text-align: center;}#sk-container-id-1 label.sk-toggleable__label-arrow:before {content: \"▸\";float: left;margin-right: 0.25em;color: #696969;}#sk-container-id-1 label.sk-toggleable__label-arrow:hover:before {color: black;}#sk-container-id-1 div.sk-estimator:hover label.sk-toggleable__label-arrow:before {color: black;}#sk-container-id-1 div.sk-toggleable__content {max-height: 0;max-width: 0;overflow: hidden;text-align: left;background-color: #f0f8ff;}#sk-container-id-1 div.sk-toggleable__content pre {margin: 0.2em;color: black;border-radius: 0.25em;background-color: #f0f8ff;}#sk-container-id-1 input.sk-toggleable__control:checked~div.sk-toggleable__content {max-height: 200px;max-width: 100%;overflow: auto;}#sk-container-id-1 input.sk-toggleable__control:checked~label.sk-toggleable__label-arrow:before {content: \"▾\";}#sk-container-id-1 div.sk-estimator input.sk-toggleable__control:checked~label.sk-toggleable__label {background-color: #d4ebff;}#sk-container-id-1 div.sk-label input.sk-toggleable__control:checked~label.sk-toggleable__label {background-color: #d4ebff;}#sk-container-id-1 input.sk-hidden--visually {border: 0;clip: rect(1px 1px 1px 1px);clip: rect(1px, 1px, 1px, 1px);height: 1px;margin: -1px;overflow: hidden;padding: 0;position: absolute;width: 1px;}#sk-container-id-1 div.sk-estimator {font-family: monospace;background-color: #f0f8ff;border: 1px dotted black;border-radius: 0.25em;box-sizing: border-box;margin-bottom: 0.5em;}#sk-container-id-1 div.sk-estimator:hover {background-color: #d4ebff;}#sk-container-id-1 div.sk-parallel-item::after {content: \"\";width: 100%;border-bottom: 1px solid gray;flex-grow: 1;}#sk-container-id-1 div.sk-label:hover label.sk-toggleable__label {background-color: #d4ebff;}#sk-container-id-1 div.sk-serial::before {content: \"\";position: absolute;border-left: 1px solid gray;box-sizing: border-box;top: 0;bottom: 0;left: 50%;z-index: 0;}#sk-container-id-1 div.sk-serial {display: flex;flex-direction: column;align-items: center;background-color: white;padding-right: 0.2em;padding-left: 0.2em;position: relative;}#sk-container-id-1 div.sk-item {position: relative;z-index: 1;}#sk-container-id-1 div.sk-parallel {display: flex;align-items: stretch;justify-content: center;background-color: white;position: relative;}#sk-container-id-1 div.sk-item::before, #sk-container-id-1 div.sk-parallel-item::before {content: \"\";position: absolute;border-left: 1px solid gray;box-sizing: border-box;top: 0;bottom: 0;left: 50%;z-index: -1;}#sk-container-id-1 div.sk-parallel-item {display: flex;flex-direction: column;z-index: 1;position: relative;background-color: white;}#sk-container-id-1 div.sk-parallel-item:first-child::after {align-self: flex-end;width: 50%;}#sk-container-id-1 div.sk-parallel-item:last-child::after {align-self: flex-start;width: 50%;}#sk-container-id-1 div.sk-parallel-item:only-child::after {width: 0;}#sk-container-id-1 div.sk-dashed-wrapped {border: 1px dashed gray;margin: 0 0.4em 0.5em 0.4em;box-sizing: border-box;padding-bottom: 0.4em;background-color: white;}#sk-container-id-1 div.sk-label label {font-family: monospace;font-weight: bold;display: inline-block;line-height: 1.2em;}#sk-container-id-1 div.sk-label-container {text-align: center;}#sk-container-id-1 div.sk-container {/* jupyter's `normalize.less` sets `[hidden] { display: none; }` but bootstrap.min.css set `[hidden] { display: none !important; }` so we also need the `!important` here to be able to override the default hidden behavior on the sphinx rendered scikit-learn.org. See: https://github.com/scikit-learn/scikit-learn/issues/21755 */display: inline-block !important;position: relative;}#sk-container-id-1 div.sk-text-repr-fallback {display: none;}</style><div id=\"sk-container-id-1\" class=\"sk-top-container\"><div class=\"sk-text-repr-fallback\"><pre>LinearRegression()</pre><b>In a Jupyter environment, please rerun this cell to show the HTML representation or trust the notebook. <br />On GitHub, the HTML representation is unable to render, please try loading this page with nbviewer.org.</b></div><div class=\"sk-container\" hidden><div class=\"sk-item\"><div class=\"sk-estimator sk-toggleable\"><input class=\"sk-toggleable__control sk-hidden--visually\" id=\"sk-estimator-id-1\" type=\"checkbox\" checked><label for=\"sk-estimator-id-1\" class=\"sk-toggleable__label sk-toggleable__label-arrow\">LinearRegression</label><div class=\"sk-toggleable__content\"><pre>LinearRegression()</pre></div></div></div></div></div>"
      ],
      "text/plain": [
       "LinearRegression()"
      ]
     },
     "execution_count": 34,
     "metadata": {},
     "output_type": "execute_result"
    }
   ],
   "source": [
    "# Fitting the regression object onto the training set.\n",
    "regression.fit(X_train, y_train)"
   ]
  },
  {
   "cell_type": "code",
   "execution_count": 35,
   "id": "547a4807",
   "metadata": {},
   "outputs": [],
   "source": [
    "# Predicting values of y using X.\n",
    "y_predicted = regression.predict(X_test)"
   ]
  },
  {
   "cell_type": "code",
   "execution_count": 36,
   "id": "25d01033",
   "metadata": {},
   "outputs": [
    {
     "data": {
      "image/png": "[encoded data removed]",
      "text/plain": [
       "<Figure size 640x480 with 1 Axes>"
      ]
     },
     "metadata": {},
     "output_type": "display_data"
    }
   ],
   "source": [
    "# Creating a plot that shows the regression line from the model on the test set.\n",
    "plot_test = plt\n",
    "plot_test.scatter(X_test, y_test, color='gray', s = 15)\n",
    "plot_test.plot(X_test, y_predicted, color='red', linewidth =3)\n",
    "plot_test.title(\"Population vs SPI Score (Test set)\")\n",
    "plot_test.xlabel(\"Population\")\n",
    "plot_test.ylabel(\"SPI Score\")\n",
    "plot_test.show()"
   ]
  },
  {
   "cell_type": "code",
   "execution_count": 37,
   "id": "5baec9a9",
   "metadata": {},
   "outputs": [],
   "source": [
    "# Create objects containing model summary statistics\n",
    "rmse = mean_squared_error(y_test, y_predicted) \n",
    "r2 = r2_score(y_test, y_predicted) "
   ]
  },
  {
   "cell_type": "code",
   "execution_count": 38,
   "id": "1037f706",
   "metadata": {},
   "outputs": [
    {
     "name": "stdout",
     "output_type": "stream",
     "text": [
      "Slope: [[6.0983766e-08]]\n",
      "Mean squared error:  239.6498403713684\n",
      "R2 score:  0.011404469434653897\n"
     ]
    }
   ],
   "source": [
    "# Print the model summary statistics to evaluate the performance of the model\n",
    "\n",
    "print(\"Slope:\" ,regression.coef_)\n",
    "print(\"Mean squared error: \", rmse)\n",
    "print(\"R2 score: \", r2)"
   ]
  },
  {
   "cell_type": "markdown",
   "id": "7021d7b3",
   "metadata": {},
   "source": [
    "## The slope is 0.000000060983766 which indicates a very weak positive correlation between population of the country and spi score they received. The MSE tells how close a regression line is to a set of points; I have a MSE of 239.65 which is a very big number give the dataset, this indicates that the regression line is not a good representation of the data. R2 which is a metric that tells you how well the model explains the variance in the data, where values closer to 0 indicate a poor fit; my R2 is 0.011 which is about 1%, telling me that my model is not a great fit at all."
   ]
  },
  {
   "cell_type": "code",
   "execution_count": 39,
   "id": "e8210b3f",
   "metadata": {},
   "outputs": [
    {
     "data": {
      "text/plain": [
       "array([[64.22975082],\n",
       "       [61.81254937],\n",
       "       [62.31535234],\n",
       "       [65.37206336],\n",
       "       [64.33042118],\n",
       "       [61.97341667],\n",
       "       [78.40000919],\n",
       "       [64.60790835],\n",
       "       [63.94805803],\n",
       "       [61.72587125],\n",
       "       [62.10908043],\n",
       "       [63.96503761],\n",
       "       [61.72463602],\n",
       "       [61.72270656],\n",
       "       [61.76035702],\n",
       "       [64.99868507],\n",
       "       [61.73011127],\n",
       "       [61.80485492],\n",
       "       [68.04132536],\n",
       "       [62.32567336],\n",
       "       [61.86688596],\n",
       "       [62.79710769],\n",
       "       [62.4167631 ],\n",
       "       [61.76724471],\n",
       "       [62.8782605 ],\n",
       "       [61.89909423],\n",
       "       [64.03916064],\n",
       "       [78.41400923],\n",
       "       [62.73909451],\n",
       "       [61.76747602],\n",
       "       [61.72173271],\n",
       "       [62.93246006],\n",
       "       [61.84875006],\n",
       "       [61.7364823 ],\n",
       "       [61.73996502],\n",
       "       [74.39783154],\n",
       "       [63.4454527 ],\n",
       "       [62.11168126],\n",
       "       [61.82696117],\n",
       "       [61.72556182],\n",
       "       [65.41680184],\n",
       "       [62.44025252],\n",
       "       [61.72198305],\n",
       "       [62.90827646],\n",
       "       [64.00383683],\n",
       "       [64.37435108],\n",
       "       [65.82858923],\n",
       "       [62.13759589],\n",
       "       [61.72388781],\n",
       "       [63.21982276],\n",
       "       [61.7571991 ],\n",
       "       [61.72911595],\n",
       "       [62.06625061],\n",
       "       [61.72340574],\n",
       "       [62.03872937],\n",
       "       [61.73779662],\n",
       "       [62.79267118],\n",
       "       [62.05170233],\n",
       "       [63.49544566],\n",
       "       [62.03545515],\n",
       "       [62.08360763],\n",
       "       [61.77053832],\n",
       "       [61.721457  ],\n",
       "       [62.30199312],\n",
       "       [62.05672105],\n",
       "       [62.11327477],\n",
       "       [62.88612539],\n",
       "       [61.79361488],\n",
       "       [61.76692271],\n",
       "       [65.85203115],\n",
       "       [61.84542937],\n",
       "       [69.39346315],\n",
       "       [65.72075072],\n",
       "       [61.7217382 ],\n",
       "       [71.66267762],\n",
       "       [61.91958514],\n",
       "       [62.95878285],\n",
       "       [62.32044473],\n",
       "       [63.63710034],\n",
       "       [61.72386647],\n",
       "       [62.36759323],\n",
       "       [65.79532241],\n",
       "       [61.89199536],\n",
       "       [61.73213776],\n",
       "       [62.04131807],\n",
       "       [61.86268064],\n",
       "       [61.72297757],\n",
       "       [64.03073671],\n",
       "       [69.32889982],\n",
       "       [61.8921927 ],\n",
       "       [61.9799437 ],\n",
       "       [61.75395738],\n",
       "       [62.12349894],\n",
       "       [61.90021786],\n",
       "       [62.60005438],\n",
       "       [81.41368603],\n",
       "       [61.72290799],\n",
       "       [61.95606472],\n",
       "       [61.98486534],\n",
       "       [62.82996623],\n",
       "       [62.01185877],\n",
       "       [63.30337351],\n",
       "       [82.04463908],\n",
       "       [66.58733803],\n",
       "       [62.55966362],\n",
       "       [69.58231353],\n",
       "       [65.33637596],\n",
       "       [62.91501816],\n",
       "       [61.7968344 ],\n",
       "       [61.72156555],\n",
       "       [62.60753392],\n",
       "       [61.87434001],\n",
       "       [62.13574985],\n",
       "       [61.73046448],\n",
       "       [62.13284885],\n",
       "       [62.45543266],\n",
       "       [61.72596504],\n",
       "       [62.5203958 ],\n",
       "       [63.3952358 ],\n",
       "       [62.71741697],\n",
       "       [61.91283991],\n",
       "       [61.94591104],\n",
       "       [61.73698914],\n",
       "       [62.10713023],\n",
       "       [64.43304978],\n",
       "       [62.40327032],\n",
       "       [62.41024839],\n",
       "       [66.09186359],\n",
       "       [61.72182723],\n",
       "       [61.85057128],\n",
       "       [62.34919364],\n",
       "       [61.7887979 ],\n",
       "       [61.94567369],\n",
       "       [62.06882431],\n",
       "       [61.75658377],\n",
       "       [61.72135266],\n",
       "       [61.72647047],\n",
       "       [62.09749827],\n",
       "       [61.72022781],\n",
       "       [64.86667552],\n",
       "       [61.84830555],\n",
       "       [62.32352899],\n",
       "       [61.75247298],\n",
       "       [61.83412054],\n",
       "       [61.72596352],\n",
       "       [69.46411223],\n",
       "       [66.76024396],\n",
       "       [63.66171357],\n",
       "       [61.80006471],\n",
       "       [61.8815814 ],\n",
       "       [62.76875201],\n",
       "       [65.94018648],\n",
       "       [61.72338311],\n",
       "       [64.51584476],\n",
       "       [62.29784817],\n",
       "       [63.14108388],\n",
       "       [62.13728042],\n",
       "       [61.97869665],\n",
       "       [62.08187966],\n",
       "       [69.49519041],\n",
       "       [62.68474083],\n",
       "       [62.15419012],\n",
       "       [65.24312764],\n",
       "       [61.92985993],\n",
       "       [63.59840401],\n",
       "       [61.72028343],\n",
       "       [61.87605475],\n",
       "       [61.72229583],\n",
       "       [63.37818346],\n",
       "       [61.79991225],\n",
       "       [61.72346946],\n",
       "       [61.74978115],\n",
       "       [62.31531697],\n",
       "       [64.09360072],\n",
       "       [61.84552481],\n",
       "       [62.46498095],\n",
       "       [61.84806729],\n",
       "       [61.73668385],\n",
       "       [63.45851133],\n",
       "       [62.32646712],\n",
       "       [61.83795429],\n",
       "       [75.19035492],\n",
       "       [61.79647026],\n",
       "       [62.32626283],\n",
       "       [61.7254096 ],\n",
       "       [61.72299794],\n",
       "       [61.72460681],\n",
       "       [62.77805795],\n",
       "       [61.73663927],\n",
       "       [61.74850726],\n",
       "       [61.89988227],\n",
       "       [69.35010174],\n",
       "       [62.76050981],\n",
       "       [62.25913568],\n",
       "       [61.72156659],\n",
       "       [62.38503453],\n",
       "       [68.66435997],\n",
       "       [66.79311884],\n",
       "       [62.10625889],\n",
       "       [61.84807052],\n",
       "       [62.41762456],\n",
       "       [62.77768814],\n",
       "       [62.05230485],\n",
       "       [65.97617422],\n",
       "       [62.0902595 ],\n",
       "       [62.01243012],\n",
       "       [62.12082602],\n",
       "       [61.75689082],\n",
       "       [62.37404025],\n",
       "       [73.664688  ],\n",
       "       [61.76367759],\n",
       "       [61.75536257],\n",
       "       [62.71332234],\n",
       "       [62.45015135],\n",
       "       [61.72340677],\n",
       "       [62.38105473],\n",
       "       [61.74185698],\n",
       "       [63.43684459],\n",
       "       [67.47924683],\n",
       "       [63.77465837],\n",
       "       [62.15014598],\n",
       "       [61.75463455],\n",
       "       [61.94676768],\n",
       "       [61.88344738],\n",
       "       [61.78744363],\n",
       "       [62.04932841],\n",
       "       [62.13257613],\n",
       "       [61.72432848],\n",
       "       [61.92675385],\n",
       "       [61.74666921],\n",
       "       [61.79386546],\n",
       "       [62.14486436],\n",
       "       [64.87292422],\n",
       "       [61.7215639 ],\n",
       "       [61.79656003],\n",
       "       [61.84589944],\n",
       "       [62.274512  ],\n",
       "       [63.23766173],\n",
       "       [62.26513209],\n",
       "       [64.02147047],\n",
       "       [66.57162202],\n",
       "       [62.38925473],\n",
       "       [61.72293427],\n",
       "       [62.35470407],\n",
       "       [61.72061201],\n",
       "       [61.79025986],\n",
       "       [63.53784627],\n",
       "       [63.27763287],\n",
       "       [61.75016236],\n",
       "       [61.72630588],\n",
       "       [61.74804903],\n",
       "       [61.79933485],\n",
       "       [61.93061827],\n",
       "       [61.91898311],\n",
       "       [61.88453027],\n",
       "       [62.78315704],\n",
       "       [62.58460079],\n",
       "       [62.11106984],\n",
       "       [63.84876298],\n",
       "       [61.72156329],\n",
       "       [62.88293807],\n",
       "       [62.39784185],\n",
       "       [62.45882696],\n",
       "       [62.05542032],\n",
       "       [63.48289411],\n",
       "       [62.14995175],\n",
       "       [64.01184345],\n",
       "       [63.26631965],\n",
       "       [63.16482394],\n",
       "       [62.77035802],\n",
       "       [62.07107888],\n",
       "       [61.72220862],\n",
       "       [65.80907315],\n",
       "       [61.96081383],\n",
       "       [61.72572891],\n",
       "       [63.17230751],\n",
       "       [64.03535196],\n",
       "       [64.19248602],\n",
       "       [61.91619152],\n",
       "       [61.72156903],\n",
       "       [67.18130039],\n",
       "       [61.79145002],\n",
       "       [62.22395177],\n",
       "       [61.72294616],\n",
       "       [62.30419189],\n",
       "       [62.02708714],\n",
       "       [61.72248866],\n",
       "       [61.8468395 ],\n",
       "       [62.02644999],\n",
       "       [62.37206889],\n",
       "       [62.31457681],\n",
       "       [62.23874454],\n",
       "       [65.78859584],\n",
       "       [61.96635146],\n",
       "       [64.40552714],\n",
       "       [61.8291017 ],\n",
       "       [61.76882785],\n",
       "       [69.45138407],\n",
       "       [61.79313811],\n",
       "       [65.80367657],\n",
       "       [61.72188944],\n",
       "       [62.87527534],\n",
       "       [61.88914583],\n",
       "       [61.99550268],\n",
       "       [62.02355387],\n",
       "       [61.74618805],\n",
       "       [70.52395057],\n",
       "       [64.92566756],\n",
       "       [61.88567262],\n",
       "       [62.51210829],\n",
       "       [67.48836817],\n",
       "       [74.85013667],\n",
       "       [64.8751061 ],\n",
       "       [62.03622276],\n",
       "       [62.41066717],\n",
       "       [64.59042809],\n",
       "       [62.78391526],\n",
       "       [62.12593189],\n",
       "       [61.84656587],\n",
       "       [62.26086567],\n",
       "       [62.84063156],\n",
       "       [61.72129887],\n",
       "       [62.74314322],\n",
       "       [61.9463916 ],\n",
       "       [62.37441079],\n",
       "       [61.77417722],\n",
       "       [62.03199561],\n",
       "       [74.78992892],\n",
       "       [61.86331091],\n",
       "       [62.00626826],\n",
       "       [62.53381662],\n",
       "       [62.40886589],\n",
       "       [62.14911712],\n",
       "       [62.63387049],\n",
       "       [61.87991405],\n",
       "       [61.72296409],\n",
       "       [61.7908711 ],\n",
       "       [61.72131241],\n",
       "       [61.77888005],\n",
       "       [61.74197511],\n",
       "       [62.08731319],\n",
       "       [63.02724457],\n",
       "       [62.40209108],\n",
       "       [70.53146407],\n",
       "       [61.99979179],\n",
       "       [62.95448081],\n",
       "       [62.84590562],\n",
       "       [77.85861148],\n",
       "       [61.73634649],\n",
       "       [61.7262702 ],\n",
       "       [61.75266965],\n",
       "       [62.34173459],\n",
       "       [61.98583016],\n",
       "       [62.69200924],\n",
       "       [78.52061788],\n",
       "       [62.00306247],\n",
       "       [61.91427218],\n",
       "       [61.98836056],\n",
       "       [61.74101894],\n",
       "       [61.89356801],\n",
       "       [63.80933258],\n",
       "       [61.79582914],\n",
       "       [61.72289115],\n",
       "       [63.7959808 ],\n",
       "       [62.12077577],\n",
       "       [61.76802689],\n",
       "       [61.85999681],\n",
       "       [62.13718193],\n",
       "       [64.86118265],\n",
       "       [62.24243424],\n",
       "       [61.97607246],\n",
       "       [62.41637348],\n",
       "       [61.72600011],\n",
       "       [61.73943453],\n",
       "       [62.84846419],\n",
       "       [64.95199065],\n",
       "       [62.07949812],\n",
       "       [62.88528711],\n",
       "       [61.926016  ],\n",
       "       [61.72019323],\n",
       "       [61.9222144 ],\n",
       "       [64.37781349],\n",
       "       [62.0506992 ],\n",
       "       [62.3156594 ],\n",
       "       [62.86322507],\n",
       "       [61.72601145],\n",
       "       [62.29683322],\n",
       "       [61.72342226],\n",
       "       [61.72178119],\n",
       "       [61.94653393],\n",
       "       [62.71048257],\n",
       "       [62.00405498],\n",
       "       [74.68218195],\n",
       "       [61.94028895],\n",
       "       [61.72208891],\n",
       "       [63.66792641],\n",
       "       [61.7229636 ],\n",
       "       [61.74375712],\n",
       "       [62.41487809],\n",
       "       [62.1154253 ],\n",
       "       [62.89994364],\n",
       "       [65.77251076],\n",
       "       [61.84911554],\n",
       "       [61.75341493],\n",
       "       [62.62590595],\n",
       "       [63.43241284],\n",
       "       [62.37190436],\n",
       "       [61.76961448],\n",
       "       [61.72173826],\n",
       "       [62.80465718],\n",
       "       [66.73967548],\n",
       "       [63.5745041 ],\n",
       "       [62.24067595],\n",
       "       [61.72194615],\n",
       "       [62.2903765 ],\n",
       "       [61.88946093],\n",
       "       [62.23493372],\n",
       "       [63.72929578],\n",
       "       [62.06146192],\n",
       "       [61.91962924],\n",
       "       [61.89097467],\n",
       "       [61.92832515],\n",
       "       [63.97045352],\n",
       "       [62.41991017],\n",
       "       [65.81855039],\n",
       "       [61.84598256],\n",
       "       [62.05208768],\n",
       "       [61.72464736],\n",
       "       [61.89520658],\n",
       "       [65.8070244 ],\n",
       "       [61.92908831],\n",
       "       [65.74802669],\n",
       "       [64.99484888],\n",
       "       [61.96570491],\n",
       "       [62.04756933],\n",
       "       [61.73625331],\n",
       "       [63.72381749],\n",
       "       [62.98729032],\n",
       "       [63.01254748],\n",
       "       [61.75528384],\n",
       "       [61.72337396],\n",
       "       [61.72309399],\n",
       "       [66.7754155 ],\n",
       "       [63.47843199],\n",
       "       [64.95474565],\n",
       "       [61.72247726],\n",
       "       [62.02439343],\n",
       "       [62.11506165],\n",
       "       [61.72990636]])"
      ]
     },
     "execution_count": 39,
     "metadata": {},
     "output_type": "execute_result"
    }
   ],
   "source": [
    "y_predicted"
   ]
  },
  {
   "cell_type": "code",
   "execution_count": 43,
   "id": "c5cb9bed",
   "metadata": {},
   "outputs": [
    {
     "data": {
      "text/html": [
       "<div>\n",
       "<style scoped>\n",
       "    .dataframe tbody tr th:only-of-type {\n",
       "        vertical-align: middle;\n",
       "    }\n",
       "\n",
       "    .dataframe tbody tr th {\n",
       "        vertical-align: top;\n",
       "    }\n",
       "\n",
       "    .dataframe thead th {\n",
       "        text-align: right;\n",
       "    }\n",
       "</style>\n",
       "<table border=\"1\" class=\"dataframe\">\n",
       "  <thead>\n",
       "    <tr style=\"text-align: right;\">\n",
       "      <th></th>\n",
       "      <th>Actual</th>\n",
       "      <th>Predicted</th>\n",
       "    </tr>\n",
       "  </thead>\n",
       "  <tbody>\n",
       "    <tr>\n",
       "      <th>0</th>\n",
       "      <td>69.126667</td>\n",
       "      <td>64.229751</td>\n",
       "    </tr>\n",
       "    <tr>\n",
       "      <th>1</th>\n",
       "      <td>56.610833</td>\n",
       "      <td>61.812549</td>\n",
       "    </tr>\n",
       "    <tr>\n",
       "      <th>2</th>\n",
       "      <td>59.669167</td>\n",
       "      <td>62.315352</td>\n",
       "    </tr>\n",
       "    <tr>\n",
       "      <th>3</th>\n",
       "      <td>82.381250</td>\n",
       "      <td>65.372063</td>\n",
       "    </tr>\n",
       "    <tr>\n",
       "      <th>4</th>\n",
       "      <td>39.161250</td>\n",
       "      <td>64.330421</td>\n",
       "    </tr>\n",
       "    <tr>\n",
       "      <th>5</th>\n",
       "      <td>36.854167</td>\n",
       "      <td>61.973417</td>\n",
       "    </tr>\n",
       "    <tr>\n",
       "      <th>6</th>\n",
       "      <td>74.922083</td>\n",
       "      <td>78.400009</td>\n",
       "    </tr>\n",
       "    <tr>\n",
       "      <th>7</th>\n",
       "      <td>86.770417</td>\n",
       "      <td>64.607908</td>\n",
       "    </tr>\n",
       "    <tr>\n",
       "      <th>8</th>\n",
       "      <td>86.448750</td>\n",
       "      <td>63.948058</td>\n",
       "    </tr>\n",
       "    <tr>\n",
       "      <th>9</th>\n",
       "      <td>54.536250</td>\n",
       "      <td>61.725871</td>\n",
       "    </tr>\n",
       "  </tbody>\n",
       "</table>\n",
       "</div>"
      ],
      "text/plain": [
       "      Actual  Predicted\n",
       "0  69.126667  64.229751\n",
       "1  56.610833  61.812549\n",
       "2  59.669167  62.315352\n",
       "3  82.381250  65.372063\n",
       "4  39.161250  64.330421\n",
       "5  36.854167  61.973417\n",
       "6  74.922083  78.400009\n",
       "7  86.770417  64.607908\n",
       "8  86.448750  63.948058\n",
       "9  54.536250  61.725871"
      ]
     },
     "execution_count": 43,
     "metadata": {},
     "output_type": "execute_result"
    }
   ],
   "source": [
    "# Create a dataframe comparing the actual and predicted values of y\n",
    "data_predicted=pd.DataFrame({\"Actual\":y_test.flatten(),\"Predicted\":y_predicted.flatten()})\n",
    "data_predicted.head(10)"
   ]
  },
  {
   "cell_type": "markdown",
   "id": "c488ce84",
   "metadata": {},
   "source": [
    "## Comparing how regression fits the training set"
   ]
  },
  {
   "cell_type": "code",
   "execution_count": 44,
   "id": "2a547ab7",
   "metadata": {},
   "outputs": [],
   "source": [
    "# Predicting\n",
    "y_predicted_train = regression.predict(X_train)"
   ]
  },
  {
   "cell_type": "code",
   "execution_count": 45,
   "id": "91f88c77",
   "metadata": {},
   "outputs": [],
   "source": [
    "rmse = mean_squared_error(y_train, y_predicted_train)\n",
    "r2 = r2_score(y_train, y_predicted_train)"
   ]
  },
  {
   "cell_type": "code",
   "execution_count": 46,
   "id": "50560f33",
   "metadata": {},
   "outputs": [
    {
     "name": "stdout",
     "output_type": "stream",
     "text": [
      "Slope: [[6.0983766e-08]]\n",
      "Mean squared error:  249.53853993804282\n",
      "R2 score:  0.028170906584692235\n"
     ]
    }
   ],
   "source": [
    "print(\"Slope:\" ,regression.coef_)\n",
    "print(\"Mean squared error: \", rmse)\n",
    "print(\"R2 score: \", r2)"
   ]
  },
  {
   "cell_type": "code",
   "execution_count": 47,
   "id": "d3aa8c3f",
   "metadata": {},
   "outputs": [
    {
     "data": {
      "image/png": "[encoded data removed]",
      "text/plain": [
       "<Figure size 640x480 with 1 Axes>"
      ]
     },
     "metadata": {},
     "output_type": "display_data"
    }
   ],
   "source": [
    "# Visualizing the training set results.\n",
    "plot_test = plt\n",
    "plot_test.scatter(X_train, y_train, color='green', s = 15)\n",
    "plot_test.plot(X_train, y_predicted_train, color='red', linewidth =3)\n",
    "plot_test.title(\"Population vs SPI Score (Train set)\")\n",
    "plot_test.xlabel(\"Population\")\n",
    "plot_test.ylabel(\"SPI Score\")\n",
    "plot_test.show()"
   ]
  },
  {
   "cell_type": "markdown",
   "id": "209537a1",
   "metadata": {},
   "source": [
    "## R2 in the training set is a little higher, indicating that the model is not overfitted. There should not be any data bias that could affect the model, however, having only limited number of variables to test and make models from, the statistical results produced by the model were expected. Even though performing these analyses for the dataset I chose is gathering essential knowledge, I aknowledge now that the dataset chosen is not the best fit for this exercise and I will choose another independent project to work on to be included in my portfolio instead."
   ]
  },
  {
   "cell_type": "code",
   "execution_count": null,
   "id": "21ec59cb",
   "metadata": {},
   "outputs": [],
   "source": []
  }
 ],
 "metadata": {
  "kernelspec": {
   "display_name": "Python 3 (ipykernel)",
   "language": "python",
   "name": "python3"
  },
  "language_info": {
   "codemirror_mode": {
    "name": "ipython",
    "version": 3
   },
   "file_extension": ".py",
   "mimetype": "text/x-python",
   "name": "python",
   "nbconvert_exporter": "python",
   "pygments_lexer": "ipython3",
   "version": "3.11.5"
  }
 },
 "nbformat": 4,
 "nbformat_minor": 5
}
